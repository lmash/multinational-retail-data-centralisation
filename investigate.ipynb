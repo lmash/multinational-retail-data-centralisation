{
 "cells": [
  {
   "cell_type": "code",
   "execution_count": 1,
   "metadata": {},
   "outputs": [],
   "source": [
    "import logging\n",
    "import pandas as pd\n",
    "import numpy as np"
   ]
  },
  {
   "cell_type": "code",
   "execution_count": 2,
   "metadata": {},
   "outputs": [],
   "source": [
    "from data_cleaning import DataCleaning\n",
    "from data_extraction import DataExtractor\n",
    "from database_utils import DatabaseConnector\n",
    "\n",
    "logging.basicConfig(filename='pipeline.log', encoding='utf-8', level=logging.DEBUG,\n",
    "                    format=\"%(asctime)s [%(levelname)s] %(name)s - %(funcName).20s - %(message)s\",)\n",
    "logger = logging.getLogger(__name__)\n",
    "\n",
    "\n",
    "def setup_database(filename):\n",
    "    db_conn = DatabaseConnector()\n",
    "    db_credentials = db_conn.read_db_creds(filename)\n",
    "    engine = db_conn.init_db_engine(db_credentials)\n",
    "    return db_conn, engine"
   ]
  },
  {
   "cell_type": "code",
   "execution_count": 3,
   "metadata": {},
   "outputs": [],
   "source": [
    "logger.info('****************************** Starting pipeline ******************************')\n",
    "db_extractor = DataExtractor()\n",
    "cleaner = DataCleaning()\n",
    "source_db, source_engine = setup_database(filename='config/db_creds.yaml')\n",
    "\n",
    "# with source_engine.execution_options(isolation_level='AUTOCOMMIT').connect() as conn:\n",
    "#     source_db.list_db_tables(source_engine)  # ['legacy_store_details', 'legacy_users', 'orders_table']\n",
    "#     extracted = db_extractor.read_rds_table(conn, 'legacy_users')\n",
    "#     extracted.info()\n",
    "\n",
    "# df_users = cleaner.clean_user_data(df=extracted)\n",
    "\n",
    "# Milestone 2 Step 8 - Write users dataframe to target database\n",
    "target_db, target_engine = setup_database(filename='config/db_creds_target.yaml')\n",
    "# target_db.upload_to_db(target_engine, df=df_users, table_name='dim_users')\n",
    "\n",
    "# Task 4 Step 2 - Extract card details to dataframe\n",
    "pdf_path = 'https://data-handling-public.s3.eu-west-1.amazonaws.com/card_details.pdf'\n",
    "df_card_details = db_extractor.retrieve_pdf_data(pdf_path=pdf_path)\n",
    "df_card_details = cleaner.clean_card_data(df=df_card_details)"
   ]
  },
  {
   "cell_type": "code",
   "execution_count": 6,
   "metadata": {},
   "outputs": [
    {
     "name": "stderr",
     "output_type": "stream",
     "text": [
      "/Users/mashie/src/multinational-retail-data-centralisation/data_cleaning.py:78: SettingWithCopyWarning: \n",
      "A value is trying to be set on a copy of a slice from a DataFrame.\n",
      "Try using .loc[row_indexer,col_indexer] = value instead\n",
      "\n",
      "See the caveats in the documentation: https://pandas.pydata.org/pandas-docs/stable/user_guide/indexing.html#returning-a-view-versus-a-copy\n",
      "  df['month'] = df[column_name].str.slice(5, 7)\n"
     ]
    }
   ],
   "source": [
    "df_card_details = cleaner.clean_card_data(df=df_card_details)"
   ]
  },
  {
   "cell_type": "code",
   "execution_count": 23,
   "metadata": {},
   "outputs": [
    {
     "data": {
      "text/html": [
       "<div>\n",
       "<style scoped>\n",
       "    .dataframe tbody tr th:only-of-type {\n",
       "        vertical-align: middle;\n",
       "    }\n",
       "\n",
       "    .dataframe tbody tr th {\n",
       "        vertical-align: top;\n",
       "    }\n",
       "\n",
       "    .dataframe thead th {\n",
       "        text-align: right;\n",
       "    }\n",
       "</style>\n",
       "<table border=\"1\" class=\"dataframe\">\n",
       "  <thead>\n",
       "    <tr style=\"text-align: right;\">\n",
       "      <th></th>\n",
       "      <th>card_number</th>\n",
       "      <th>expiry_date</th>\n",
       "      <th>card_provider</th>\n",
       "      <th>date_payment_confirmed</th>\n",
       "      <th>card_length</th>\n",
       "    </tr>\n",
       "  </thead>\n",
       "  <tbody>\n",
       "    <tr>\n",
       "      <th>0</th>\n",
       "      <td>30060773296197</td>\n",
       "      <td>09/26</td>\n",
       "      <td>Diners Club / Carte Blanche</td>\n",
       "      <td>2015-11-25</td>\n",
       "      <td>14</td>\n",
       "    </tr>\n",
       "    <tr>\n",
       "      <th>1</th>\n",
       "      <td>349624180933183</td>\n",
       "      <td>10/23</td>\n",
       "      <td>American Express</td>\n",
       "      <td>2001-06-18</td>\n",
       "      <td>15</td>\n",
       "    </tr>\n",
       "    <tr>\n",
       "      <th>2</th>\n",
       "      <td>3529023891650490</td>\n",
       "      <td>06/23</td>\n",
       "      <td>JCB 16 digit</td>\n",
       "      <td>2000-12-26</td>\n",
       "      <td>16</td>\n",
       "    </tr>\n",
       "    <tr>\n",
       "      <th>3</th>\n",
       "      <td>213142929492281</td>\n",
       "      <td>09/27</td>\n",
       "      <td>JCB 15 digit</td>\n",
       "      <td>2011-02-12</td>\n",
       "      <td>15</td>\n",
       "    </tr>\n",
       "    <tr>\n",
       "      <th>4</th>\n",
       "      <td>502067329974</td>\n",
       "      <td>10/25</td>\n",
       "      <td>Maestro</td>\n",
       "      <td>1997-03-13</td>\n",
       "      <td>12</td>\n",
       "    </tr>\n",
       "    <tr>\n",
       "      <th>...</th>\n",
       "      <td>...</td>\n",
       "      <td>...</td>\n",
       "      <td>...</td>\n",
       "      <td>...</td>\n",
       "      <td>...</td>\n",
       "    </tr>\n",
       "    <tr>\n",
       "      <th>15304</th>\n",
       "      <td>180036921556789</td>\n",
       "      <td>12/28</td>\n",
       "      <td>JCB 15 digit</td>\n",
       "      <td>1997-06-06</td>\n",
       "      <td>15</td>\n",
       "    </tr>\n",
       "    <tr>\n",
       "      <th>15305</th>\n",
       "      <td>180018030448512</td>\n",
       "      <td>11/24</td>\n",
       "      <td>JCB 15 digit</td>\n",
       "      <td>2004-06-16</td>\n",
       "      <td>15</td>\n",
       "    </tr>\n",
       "    <tr>\n",
       "      <th>15306</th>\n",
       "      <td>3569953313547220</td>\n",
       "      <td>04/24</td>\n",
       "      <td>JCB 16 digit</td>\n",
       "      <td>2020-02-05</td>\n",
       "      <td>16</td>\n",
       "    </tr>\n",
       "    <tr>\n",
       "      <th>15307</th>\n",
       "      <td>4444521712606810</td>\n",
       "      <td>06/27</td>\n",
       "      <td>VISA 16 digit</td>\n",
       "      <td>2008-06-16</td>\n",
       "      <td>16</td>\n",
       "    </tr>\n",
       "    <tr>\n",
       "      <th>15308</th>\n",
       "      <td>372031786522735</td>\n",
       "      <td>02/30</td>\n",
       "      <td>American Express</td>\n",
       "      <td>2009-02-04</td>\n",
       "      <td>15</td>\n",
       "    </tr>\n",
       "  </tbody>\n",
       "</table>\n",
       "<p>15284 rows × 5 columns</p>\n",
       "</div>"
      ],
      "text/plain": [
       "            card_number expiry_date                card_provider  \\\n",
       "0        30060773296197       09/26  Diners Club / Carte Blanche   \n",
       "1       349624180933183       10/23             American Express   \n",
       "2      3529023891650490       06/23                 JCB 16 digit   \n",
       "3       213142929492281       09/27                 JCB 15 digit   \n",
       "4          502067329974       10/25                      Maestro   \n",
       "...                 ...         ...                          ...   \n",
       "15304   180036921556789       12/28                 JCB 15 digit   \n",
       "15305   180018030448512       11/24                 JCB 15 digit   \n",
       "15306  3569953313547220       04/24                 JCB 16 digit   \n",
       "15307  4444521712606810       06/27                VISA 16 digit   \n",
       "15308   372031786522735       02/30             American Express   \n",
       "\n",
       "      date_payment_confirmed  card_length  \n",
       "0                 2015-11-25           14  \n",
       "1                 2001-06-18           15  \n",
       "2                 2000-12-26           16  \n",
       "3                 2011-02-12           15  \n",
       "4                 1997-03-13           12  \n",
       "...                      ...          ...  \n",
       "15304             1997-06-06           15  \n",
       "15305             2004-06-16           15  \n",
       "15306             2020-02-05           16  \n",
       "15307             2008-06-16           16  \n",
       "15308             2009-02-04           15  \n",
       "\n",
       "[15284 rows x 5 columns]"
      ]
     },
     "execution_count": 23,
     "metadata": {},
     "output_type": "execute_result"
    }
   ],
   "source": [
    "df_card_details"
   ]
  },
  {
   "cell_type": "code",
   "execution_count": 22,
   "metadata": {},
   "outputs": [
    {
     "data": {
      "text/plain": [
       "1"
      ]
     },
     "execution_count": 22,
     "metadata": {},
     "output_type": "execute_result"
    }
   ],
   "source": [
    "# df_card_details['card_length'] = df_card_details['card_number'].apply(lambda x: len(x))\n",
    "df_card_details[(df_card_details['card_provider'] == 'JCB 16 digit')]['card_length'].nunique()\n",
    "df_card_details[(df_card_details['card_provider'] == 'JCB 16 digit')]['card_length'].nunique()\n"
   ]
  }
 ],
 "metadata": {
  "kernelspec": {
   "display_name": "mrd",
   "language": "python",
   "name": "python3"
  },
  "language_info": {
   "codemirror_mode": {
    "name": "ipython",
    "version": 3
   },
   "file_extension": ".py",
   "mimetype": "text/x-python",
   "name": "python",
   "nbconvert_exporter": "python",
   "pygments_lexer": "ipython3",
   "version": "3.11.5"
  },
  "orig_nbformat": 4
 },
 "nbformat": 4,
 "nbformat_minor": 2
}
