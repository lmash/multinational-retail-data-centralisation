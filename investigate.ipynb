{
 "cells": [
  {
   "cell_type": "code",
   "execution_count": 21,
   "metadata": {},
   "outputs": [
    {
     "ename": "ImportError",
     "evalue": "cannot import name 'endpoints' from 'config' (/Users/mashie/src/multinational-retail-data-centralisation/config.py)",
     "output_type": "error",
     "traceback": [
      "\u001b[0;31m---------------------------------------------------------------------------\u001b[0m",
      "\u001b[0;31mImportError\u001b[0m                               Traceback (most recent call last)",
      "\u001b[1;32m/Users/mashie/src/multinational-retail-data-centralisation/investigate.ipynb Cell 1\u001b[0m line \u001b[0;36m5\n\u001b[1;32m      <a href='vscode-notebook-cell:/Users/mashie/src/multinational-retail-data-centralisation/investigate.ipynb#W0sZmlsZQ%3D%3D?line=1'>2</a>\u001b[0m \u001b[39mimport\u001b[39;00m \u001b[39mlogging\u001b[39;00m\n\u001b[1;32m      <a href='vscode-notebook-cell:/Users/mashie/src/multinational-retail-data-centralisation/investigate.ipynb#W0sZmlsZQ%3D%3D?line=2'>3</a>\u001b[0m \u001b[39mimport\u001b[39;00m \u001b[39mos\u001b[39;00m\n\u001b[0;32m----> <a href='vscode-notebook-cell:/Users/mashie/src/multinational-retail-data-centralisation/investigate.ipynb#W0sZmlsZQ%3D%3D?line=4'>5</a>\u001b[0m \u001b[39mfrom\u001b[39;00m \u001b[39mconfig\u001b[39;00m \u001b[39mimport\u001b[39;00m endpoints, card, user, store, order, product, date_times, DataType\n\u001b[1;32m      <a href='vscode-notebook-cell:/Users/mashie/src/multinational-retail-data-centralisation/investigate.ipynb#W0sZmlsZQ%3D%3D?line=5'>6</a>\u001b[0m \u001b[39mfrom\u001b[39;00m \u001b[39mdata_cleaning\u001b[39;00m \u001b[39mimport\u001b[39;00m DataCleaning\n\u001b[1;32m      <a href='vscode-notebook-cell:/Users/mashie/src/multinational-retail-data-centralisation/investigate.ipynb#W0sZmlsZQ%3D%3D?line=6'>7</a>\u001b[0m \u001b[39mfrom\u001b[39;00m \u001b[39mdata_extraction\u001b[39;00m \u001b[39mimport\u001b[39;00m DataExtractor\n",
      "\u001b[0;31mImportError\u001b[0m: cannot import name 'endpoints' from 'config' (/Users/mashie/src/multinational-retail-data-centralisation/config.py)"
     ]
    }
   ],
   "source": [
    "from dotenv import load_dotenv\n",
    "import logging\n",
    "import os\n",
    "\n",
    "from config import endpoints, card, user, store, order, product, date_times, DataType\n",
    "from data_cleaning import DataCleaning\n",
    "from data_extraction import DataExtractor\n",
    "from database_utils import DatabaseConnector\n",
    "\n",
    "logging.basicConfig(filename='pipeline.log', encoding='utf-8', level=logging.DEBUG,\n",
    "                    format=\"%(asctime)s [%(levelname)s] %(name)s - %(funcName).40s - %(message)s\",)\n",
    "logger = logging.getLogger(__name__)\n",
    "load_dotenv()\n",
    "\n",
    "\n",
    "def setup_database(filename):\n",
    "    db_conn = DatabaseConnector()\n",
    "    db_credentials = db_conn.read_db_creds(filename)\n",
    "    engine = db_conn.init_db_engine(db_credentials)\n",
    "    return db_conn, engine\n"
   ]
  },
  {
   "cell_type": "code",
   "execution_count": 13,
   "metadata": {},
   "outputs": [
    {
     "name": "stdout",
     "output_type": "stream",
     "text": [
      "Processing Store Data\n",
      "Store rows extracted: 451\n"
     ]
    }
   ],
   "source": [
    "source_db, source_engine = setup_database(filename='config/db_creds.yaml')\n",
    "target_db, target_engine = setup_database(filename='config/db_creds_target.yaml')\n",
    "\n",
    "print(f\"Processing {data_type.name} Data\")\n",
    "headers = {\n",
    "    \"Content-Type\": \"application/json\",\n",
    "    \"X-API-KEY\": os.getenv('x-api-key')\n",
    "}\n",
    "\n",
    "# Extract\n",
    "data_extractor = DataExtractor()\n",
    "num_stores = data_extractor.list_number_of_stores(url=endpoints.number_of_stores, headers=headers)\n",
    "df_extracted = data_extractor.retrieve_stores_data(\n",
    "    url=endpoints.store_details, headers=headers, number_stores=num_stores)\n",
    "print(f\"{data_type.name} rows extracted: {len(df_extracted.index)}\")\n",
    "assert len(df_extracted.index) == data_type.extracted_count\n",
    "\n",
    "# Clean\n",
    "data_cleaner = DataCleaning(column_entries=data_type.column_entries)\n",
    "df_cleaned = df_extracted.copy()\n",
    "df_cleaned = data_cleaner.clean_store_data(df=df_cleaned)\n",
    "print(f\"{data_type.name} rows after cleaning: {len(df_cleaned.index)}\")\n",
    "assert len(df_cleaned.index) == data_type.clean_count\n",
    "\n",
    "# Load\n",
    "target_db.upload_to_db(target_engine, df=df_cleaned, table_name=data_type.table_name)"
   ]
  },
  {
   "cell_type": "code",
   "execution_count": 20,
   "metadata": {},
   "outputs": [
    {
     "data": {
      "text/html": [
       "<div>\n",
       "<style scoped>\n",
       "    .dataframe tbody tr th:only-of-type {\n",
       "        vertical-align: middle;\n",
       "    }\n",
       "\n",
       "    .dataframe tbody tr th {\n",
       "        vertical-align: top;\n",
       "    }\n",
       "\n",
       "    .dataframe thead th {\n",
       "        text-align: right;\n",
       "    }\n",
       "</style>\n",
       "<table border=\"1\" class=\"dataframe\">\n",
       "  <thead>\n",
       "    <tr style=\"text-align: right;\">\n",
       "      <th></th>\n",
       "      <th>index</th>\n",
       "      <th>address</th>\n",
       "      <th>longitude</th>\n",
       "      <th>lat</th>\n",
       "      <th>locality</th>\n",
       "      <th>store_code</th>\n",
       "      <th>staff_numbers</th>\n",
       "      <th>opening_date</th>\n",
       "      <th>store_type</th>\n",
       "      <th>latitude</th>\n",
       "      <th>country_code</th>\n",
       "      <th>continent</th>\n",
       "    </tr>\n",
       "  </thead>\n",
       "  <tbody>\n",
       "    <tr>\n",
       "      <th>217</th>\n",
       "      <td>217</td>\n",
       "      <td>NULL</td>\n",
       "      <td>NULL</td>\n",
       "      <td>NULL</td>\n",
       "      <td>NULL</td>\n",
       "      <td>NULL</td>\n",
       "      <td>NULL</td>\n",
       "      <td>NULL</td>\n",
       "      <td>NULL</td>\n",
       "      <td>NULL</td>\n",
       "      <td>NULL</td>\n",
       "      <td>NULL</td>\n",
       "    </tr>\n",
       "    <tr>\n",
       "      <th>405</th>\n",
       "      <td>405</td>\n",
       "      <td>NULL</td>\n",
       "      <td>NULL</td>\n",
       "      <td>NULL</td>\n",
       "      <td>NULL</td>\n",
       "      <td>NULL</td>\n",
       "      <td>NULL</td>\n",
       "      <td>NULL</td>\n",
       "      <td>NULL</td>\n",
       "      <td>NULL</td>\n",
       "      <td>NULL</td>\n",
       "      <td>NULL</td>\n",
       "    </tr>\n",
       "    <tr>\n",
       "      <th>437</th>\n",
       "      <td>437</td>\n",
       "      <td>NULL</td>\n",
       "      <td>NULL</td>\n",
       "      <td>NULL</td>\n",
       "      <td>NULL</td>\n",
       "      <td>NULL</td>\n",
       "      <td>NULL</td>\n",
       "      <td>NULL</td>\n",
       "      <td>NULL</td>\n",
       "      <td>NULL</td>\n",
       "      <td>NULL</td>\n",
       "      <td>NULL</td>\n",
       "    </tr>\n",
       "  </tbody>\n",
       "</table>\n",
       "</div>"
      ],
      "text/plain": [
       "     index address longitude   lat locality store_code staff_numbers  \\\n",
       "217    217    NULL      NULL  NULL     NULL       NULL          NULL   \n",
       "405    405    NULL      NULL  NULL     NULL       NULL          NULL   \n",
       "437    437    NULL      NULL  NULL     NULL       NULL          NULL   \n",
       "\n",
       "    opening_date store_type latitude country_code continent  \n",
       "217         NULL       NULL     NULL         NULL      NULL  \n",
       "405         NULL       NULL     NULL         NULL      NULL  \n",
       "437         NULL       NULL     NULL         NULL      NULL  "
      ]
     },
     "execution_count": 20,
     "metadata": {},
     "output_type": "execute_result"
    }
   ],
   "source": [
    "extracted[extracted['store_type'] == 'NULL']"
   ]
  },
  {
   "cell_type": "code",
   "execution_count": 11,
   "metadata": {},
   "outputs": [
    {
     "data": {
      "text/plain": [
       "array([33,  8, 20, 12, 11, 10,  2,  7, 29, 18,  8])"
      ]
     },
     "execution_count": 11,
     "metadata": {},
     "output_type": "execute_result"
    }
   ],
   "source": [
    "# len(df_orders['card_number'])\n",
    "\n",
    "# df_orders['card_number'] = df_orders['card_number'].astype(str)\n",
    "\n",
    "# df_orders.info()\n",
    "\n",
    "import numpy as np\n",
    "measurer = np.vectorize(len)\n",
    "\n",
    "res2 = measurer(df_stores.select_dtypes(include=[object]).values.astype(str)).max(axis=0)\n",
    "res2\n",
    "\n",
    "# array([36, 36, 19, 12, 11])\n"
   ]
  }
 ],
 "metadata": {
  "kernelspec": {
   "display_name": "mrd",
   "language": "python",
   "name": "python3"
  },
  "language_info": {
   "codemirror_mode": {
    "name": "ipython",
    "version": 3
   },
   "file_extension": ".py",
   "mimetype": "text/x-python",
   "name": "python",
   "nbconvert_exporter": "python",
   "pygments_lexer": "ipython3",
   "version": "3.11.5"
  },
  "orig_nbformat": 4
 },
 "nbformat": 4,
 "nbformat_minor": 2
}
