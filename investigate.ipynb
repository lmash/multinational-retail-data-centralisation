{
 "cells": [
  {
   "cell_type": "code",
   "execution_count": 1,
   "metadata": {},
   "outputs": [],
   "source": [
    "from dotenv import load_dotenv\n",
    "import logging\n",
    "import os\n",
    "\n",
    "from config import ColumnEntries\n",
    "from data_cleaning import DataCleaning\n",
    "from data_extraction import DataExtractor\n",
    "from database_utils import DatabaseConnector\n",
    "\n",
    "logging.basicConfig(filename='pipeline.log', encoding='utf-8', level=logging.DEBUG,\n",
    "                    format=\"%(asctime)s [%(levelname)s] %(name)s - %(funcName).40s - %(message)s\",)\n",
    "logger = logging.getLogger(__name__)\n",
    "\n",
    "load_dotenv()\n",
    "CARD_DATA_PDF_PATH = 'https://data-handling-public.s3.eu-west-1.amazonaws.com/card_details.pdf'\n",
    "API_KEY = os.getenv('x-api-key')\n",
    "NUMBER_STORES_ENDPOINT_URL = 'https://aqj7u5id95.execute-api.eu-west-1.amazonaws.com/prod/number_stores'\n",
    "STORE_ENDPOINT_URL = 'https://aqj7u5id95.execute-api.eu-west-1.amazonaws.com/prod/store_details/'\n",
    "PRODUCTS_S3_ADDRESS = 's3://data-handling-public/products.csv'\n",
    "DATE_TIMES_S3_ADDRESS = ' s3://data-handling-public/date_details.json'\n",
    "\n",
    "\n",
    "def setup_database(filename):\n",
    "    db_conn = DatabaseConnector()\n",
    "    db_credentials = db_conn.read_db_creds(filename)\n",
    "    engine = db_conn.init_db_engine(db_credentials)\n",
    "    return db_conn, engine\n"
   ]
  },
  {
   "cell_type": "code",
   "execution_count": 2,
   "metadata": {},
   "outputs": [
    {
     "name": "stdout",
     "output_type": "stream",
     "text": [
      "Processing Date & Times Data\n"
     ]
    },
    {
     "name": "stderr",
     "output_type": "stream",
     "text": [
      "/Users/mashie/src/multinational-retail-data-centralisation/data_cleaning.py:288: SettingWithCopyWarning: \n",
      "A value is trying to be set on a copy of a slice from a DataFrame.\n",
      "Try using .loc[row_indexer,col_indexer] = value instead\n",
      "\n",
      "See the caveats in the documentation: https://pandas.pydata.org/pandas-docs/stable/user_guide/indexing.html#returning-a-view-versus-a-copy\n",
      "  df['date'] = df['year'] + '-' + df['month'] + '-' + df['day'] + ' ' + df['timestamp']\n"
     ]
    }
   ],
   "source": [
    "src_db, src_engine = setup_database(filename='config/db_creds.yaml')\n",
    "tgt_db, tgt_engine = setup_database(filename='config/db_creds_target.yaml')\n",
    "\n",
    "print(f\"Processing Date & Times Data\")\n",
    "extractor = DataExtractor()\n",
    "cleaner = DataCleaning(column_entries=ColumnEntries(column_name='month', entries=DataCleaning.valid_months))\n",
    "\n",
    "df_date_times = extractor.extract_from_s3(s3_address=DATE_TIMES_S3_ADDRESS)\n",
    "df_date_times = cleaner.clean_date_times_data(df=df_date_times)"
   ]
  },
  {
   "cell_type": "code",
   "execution_count": 3,
   "metadata": {},
   "outputs": [
    {
     "name": "stdout",
     "output_type": "stream",
     "text": [
      "<class 'pandas.core.frame.DataFrame'>\n",
      "Index: 120123 entries, 0 to 120160\n",
      "Data columns (total 7 columns):\n",
      " #   Column       Non-Null Count   Dtype \n",
      "---  ------       --------------   ----- \n",
      " 0   timestamp    120123 non-null  object\n",
      " 1   month        120123 non-null  object\n",
      " 2   year         120123 non-null  object\n",
      " 3   day          120123 non-null  object\n",
      " 4   time_period  120123 non-null  object\n",
      " 5   date_uuid    120123 non-null  object\n",
      " 6   date         120123 non-null  object\n",
      "dtypes: object(7)\n",
      "memory usage: 7.3+ MB\n"
     ]
    }
   ],
   "source": [
    "df_date_times.info()"
   ]
  },
  {
   "cell_type": "code",
   "execution_count": 21,
   "metadata": {},
   "outputs": [],
   "source": [
    "# import pandas as pd\n",
    "# df_date_times\n",
    "# df_date_times['year'].unique() - change to int?\n",
    "# df_date_times['day'].unique() - change to int?\n",
    "# df_date_times['time_period'].unique() - change to category?\n",
    "# Lets add a proper date column!! with the date information combined!\n",
    "# df_date_times['date'] = df_date_times['year'] + '-' + df_date_times['month'].astype(str) + '-' + df_date_times['day'] + ' ' + df_date_times['timestamp']\n",
    "# df_date_times['date'] = pd.to_datetime(df_date_times['date'])"
   ]
  },
  {
   "cell_type": "code",
   "execution_count": 5,
   "metadata": {},
   "outputs": [
    {
     "name": "stdout",
     "output_type": "stream",
     "text": [
      "<class 'pandas.core.frame.DataFrame'>\n",
      "Index: 120123 entries, 0 to 120160\n",
      "Data columns (total 7 columns):\n",
      " #   Column       Non-Null Count   Dtype \n",
      "---  ------       --------------   ----- \n",
      " 0   timestamp    120123 non-null  object\n",
      " 1   month        120123 non-null  object\n",
      " 2   year         120123 non-null  object\n",
      " 3   day          120123 non-null  object\n",
      " 4   time_period  120123 non-null  object\n",
      " 5   date_uuid    120123 non-null  object\n",
      " 6   date         120123 non-null  object\n",
      "dtypes: object(7)\n",
      "memory usage: 7.3+ MB\n"
     ]
    }
   ],
   "source": [
    "df_date_times.info()"
   ]
  }
 ],
 "metadata": {
  "kernelspec": {
   "display_name": "mrd",
   "language": "python",
   "name": "python3"
  },
  "language_info": {
   "codemirror_mode": {
    "name": "ipython",
    "version": 3
   },
   "file_extension": ".py",
   "mimetype": "text/x-python",
   "name": "python",
   "nbconvert_exporter": "python",
   "pygments_lexer": "ipython3",
   "version": "3.11.5"
  },
  "orig_nbformat": 4
 },
 "nbformat": 4,
 "nbformat_minor": 2
}
