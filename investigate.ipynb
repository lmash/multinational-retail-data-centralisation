{
 "cells": [
  {
   "cell_type": "code",
   "execution_count": 1,
   "metadata": {},
   "outputs": [],
   "source": [
    "from dotenv import load_dotenv\n",
    "import logging\n",
    "import os\n",
    "\n",
    "from config import date_times_config, order_config, product_config, store_config, card_config, \\\n",
    "    user_config, valid_months, valid_categories, valid_country_codes, valid_card_providers, endpoint\n",
    "from data_cleaning import DataCleaning\n",
    "from data_extraction import DataExtractor\n",
    "from database_utils import DatabaseConnector\n",
    "\n",
    "logging.basicConfig(filename='pipeline.log', encoding='utf-8', level=logging.DEBUG,\n",
    "                    format=\"%(asctime)s [%(levelname)s] %(name)s - %(funcName).40s - %(message)s\",)\n",
    "logger = logging.getLogger(__name__)\n",
    "\n",
    "load_dotenv()\n",
    "API_KEY = os.getenv('x-api-key')\n",
    "\n",
    "\n",
    "def setup_database(filename):\n",
    "    db_conn = DatabaseConnector()\n",
    "    db_credentials = db_conn.read_db_creds(filename)\n",
    "    engine = db_conn.init_db_engine(db_credentials)\n",
    "    return db_conn, engine\n"
   ]
  },
  {
   "cell_type": "code",
   "execution_count": 3,
   "metadata": {},
   "outputs": [
    {
     "name": "stdout",
     "output_type": "stream",
     "text": [
      "Processing Order Data\n",
      "Order rows extracted: 120123\n",
      "Order rows after cleaning: 120123\n"
     ]
    }
   ],
   "source": [
    "src_db, src_engine = setup_database(filename='config/db_creds.yaml')\n",
    "tgt_db, tgt_engine = setup_database(filename='config/db_creds_target.yaml')\n",
    "\n",
    "\"\"\"Extract -> Clean -> Load Order data\"\"\"\n",
    "print(\"Processing Order Data\")\n",
    "extractor, cleaner = DataExtractor(), DataCleaning()\n",
    "\n",
    "with src_engine.execution_options(isolation_level='AUTOCOMMIT').connect() as conn:\n",
    "    df_orders = extractor.read_rds_table(conn, 'orders_table')\n",
    "print(f\"Order rows extracted: {len(df_orders.index)}\")\n",
    "assert len(df_orders.index) == order_config.extracted_count\n",
    "\n",
    "df_orders = cleaner.clean_order_data(df=df_orders)\n",
    "print(f\"Order rows after cleaning: {len(df_orders.index)}\")\n",
    "assert len(df_orders.index) == order_config.clean_count\n",
    "\n",
    "tgt_db.upload_to_db(tgt_engine, df=df_orders, table_name='orders_table')"
   ]
  },
  {
   "cell_type": "code",
   "execution_count": 8,
   "metadata": {},
   "outputs": [
    {
     "name": "stdout",
     "output_type": "stream",
     "text": [
      "<class 'pandas.core.frame.DataFrame'>\n",
      "Index: 120123 entries, 0 to 120122\n",
      "Data columns (total 6 columns):\n",
      " #   Column            Non-Null Count   Dtype \n",
      "---  ------            --------------   ----- \n",
      " 0   date_uuid         120123 non-null  object\n",
      " 1   user_uuid         120123 non-null  object\n",
      " 2   card_number       120123 non-null  object\n",
      " 3   store_code        120123 non-null  object\n",
      " 4   product_code      120123 non-null  object\n",
      " 5   product_quantity  120123 non-null  int64 \n",
      "dtypes: int64(1), object(5)\n",
      "memory usage: 6.0+ MB\n"
     ]
    }
   ],
   "source": [
    "# len(df_orders['card_number'])\n",
    "\n",
    "# df_orders['card_number'] = df_orders['card_number'].astype(str)\n",
    "\n",
    "df_orders.info()\n",
    "\n",
    "# import numpy as np\n",
    "# measurer = np.vectorize(len)\n",
    "\n",
    "# res2 = measurer(df_orders.select_dtypes(include=[object]).values.astype(str)).max(axis=0)\n",
    "# res2\n",
    "\n",
    "# array([36, 36, 19, 12, 11])\n"
   ]
  }
 ],
 "metadata": {
  "kernelspec": {
   "display_name": "mrd",
   "language": "python",
   "name": "python3"
  },
  "language_info": {
   "codemirror_mode": {
    "name": "ipython",
    "version": 3
   },
   "file_extension": ".py",
   "mimetype": "text/x-python",
   "name": "python",
   "nbconvert_exporter": "python",
   "pygments_lexer": "ipython3",
   "version": "3.11.5"
  },
  "orig_nbformat": 4
 },
 "nbformat": 4,
 "nbformat_minor": 2
}
