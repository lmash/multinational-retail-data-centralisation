{
 "cells": [
  {
   "cell_type": "code",
   "execution_count": 37,
   "metadata": {},
   "outputs": [],
   "source": [
    "from dotenv import load_dotenv\n",
    "import logging\n",
    "import os\n",
    "\n",
    "from data_cleaning import DataCleaning\n",
    "from data_extraction import DataExtractor\n",
    "from database_utils import DatabaseConnector\n",
    "\n",
    "logging.basicConfig(filename='pipeline.log', encoding='utf-8', level=logging.DEBUG,\n",
    "                    format=\"%(asctime)s [%(levelname)s] %(name)s - %(funcName).40s - %(message)s\",)\n",
    "logger = logging.getLogger(__name__)\n",
    "\n",
    "load_dotenv()\n",
    "CARD_DATA_PDF_PATH = 'https://data-handling-public.s3.eu-west-1.amazonaws.com/card_details.pdf'\n",
    "API_KEY = os.getenv('x-api-key')\n",
    "NUMBER_STORES_ENDPOINT_URL = 'https://aqj7u5id95.execute-api.eu-west-1.amazonaws.com/prod/number_stores'\n",
    "STORE_ENDPOINT_URL = 'https://aqj7u5id95.execute-api.eu-west-1.amazonaws.com/prod/store_details/'\n",
    "\n",
    "\n",
    "def setup_database(filename):\n",
    "    db_conn = DatabaseConnector()\n",
    "    db_credentials = db_conn.read_db_creds(filename)\n",
    "    engine = db_conn.init_db_engine(db_credentials)\n",
    "    return db_conn, engine"
   ]
  },
  {
   "cell_type": "code",
   "execution_count": 38,
   "metadata": {},
   "outputs": [],
   "source": [
    "logger.info('****************************** Starting pipeline ******************************')\n",
    "db_extractor = DataExtractor()\n",
    "cleaner = DataCleaning()\n",
    "source_db, source_engine = setup_database(filename='config/db_creds.yaml')\n",
    "\n",
    "# Extract -> Clean -> Load Product data\n",
    "headers = {\n",
    "    \"Content-Type\": \"application/json\",\n",
    "    \"X-API-KEY\": API_KEY\n",
    "}\n",
    "num_stores = db_extractor.list_number_of_stores(url=NUMBER_STORES_ENDPOINT_URL, headers=headers)\n",
    "df_stores = db_extractor.retrieve_stores_data(url=STORE_ENDPOINT_URL, headers=headers, number_stores=num_stores)\n",
    "df_stores = cleaner.clean_store_data(df_stores)\n"
   ]
  },
  {
   "cell_type": "code",
   "execution_count": 39,
   "metadata": {},
   "outputs": [
    {
     "name": "stdout",
     "output_type": "stream",
     "text": [
      "<class 'pandas.core.frame.DataFrame'>\n",
      "Index: 441 entries, 0 to 450\n",
      "Data columns (total 11 columns):\n",
      " #   Column         Non-Null Count  Dtype         \n",
      "---  ------         --------------  -----         \n",
      " 0   address        441 non-null    object        \n",
      " 1   longitude      441 non-null    object        \n",
      " 2   lat            1 non-null      object        \n",
      " 3   locality       441 non-null    object        \n",
      " 4   store_code     441 non-null    object        \n",
      " 5   staff_numbers  441 non-null    uint16        \n",
      " 6   opening_date   441 non-null    datetime64[ns]\n",
      " 7   store_type     441 non-null    object        \n",
      " 8   latitude       440 non-null    object        \n",
      " 9   country_code   441 non-null    category      \n",
      " 10  continent      441 non-null    category      \n",
      "dtypes: category(2), datetime64[ns](1), object(7), uint16(1)\n",
      "memory usage: 30.4+ KB\n"
     ]
    }
   ],
   "source": [
    "df_stores.info()"
   ]
  },
  {
   "cell_type": "code",
   "execution_count": 31,
   "metadata": {},
   "outputs": [
    {
     "data": {
      "text/html": [
       "<div>\n",
       "<style scoped>\n",
       "    .dataframe tbody tr th:only-of-type {\n",
       "        vertical-align: middle;\n",
       "    }\n",
       "\n",
       "    .dataframe tbody tr th {\n",
       "        vertical-align: top;\n",
       "    }\n",
       "\n",
       "    .dataframe thead th {\n",
       "        text-align: right;\n",
       "    }\n",
       "</style>\n",
       "<table border=\"1\" class=\"dataframe\">\n",
       "  <thead>\n",
       "    <tr style=\"text-align: right;\">\n",
       "      <th></th>\n",
       "      <th>address</th>\n",
       "      <th>longitude</th>\n",
       "      <th>lat</th>\n",
       "      <th>locality</th>\n",
       "      <th>store_code</th>\n",
       "      <th>staff_numbers</th>\n",
       "      <th>opening_date</th>\n",
       "      <th>store_type</th>\n",
       "      <th>latitude</th>\n",
       "      <th>country_code</th>\n",
       "      <th>continent</th>\n",
       "    </tr>\n",
       "    <tr>\n",
       "      <th>index</th>\n",
       "      <th></th>\n",
       "      <th></th>\n",
       "      <th></th>\n",
       "      <th></th>\n",
       "      <th></th>\n",
       "      <th></th>\n",
       "      <th></th>\n",
       "      <th></th>\n",
       "      <th></th>\n",
       "      <th></th>\n",
       "      <th></th>\n",
       "    </tr>\n",
       "  </thead>\n",
       "  <tbody>\n",
       "    <tr>\n",
       "      <th>0</th>\n",
       "      <td>N/A</td>\n",
       "      <td>N/A</td>\n",
       "      <td>N/A</td>\n",
       "      <td>N/A</td>\n",
       "      <td>WEB-1388012W</td>\n",
       "      <td>325</td>\n",
       "      <td>2010-06-12</td>\n",
       "      <td>Web Portal</td>\n",
       "      <td>None</td>\n",
       "      <td>GB</td>\n",
       "      <td>Europe</td>\n",
       "    </tr>\n",
       "  </tbody>\n",
       "</table>\n",
       "</div>"
      ],
      "text/plain": [
       "      address longitude  lat locality    store_code  staff_numbers  \\\n",
       "index                                                                \n",
       "0         N/A       N/A  N/A      N/A  WEB-1388012W            325   \n",
       "\n",
       "      opening_date  store_type latitude country_code continent  \n",
       "index                                                           \n",
       "0       2010-06-12  Web Portal     None           GB    Europe  "
      ]
     },
     "execution_count": 31,
     "metadata": {},
     "output_type": "execute_result"
    }
   ],
   "source": [
    "# copy_of_df_stores = df_stores.copy()\n",
    "\n",
    "# df_stores\n",
    "\n",
    "# The below N/A entry is valid!!\n",
    "# df_stores.loc[df_stores['address'] == 'N/A', :] \n",
    "\n",
    "# Look into latitude - and remove column lat!\n",
    "# df_stores[df_stores['latitude'].isna()]\n",
    "# df_stores"
   ]
  }
 ],
 "metadata": {
  "kernelspec": {
   "display_name": "mrd",
   "language": "python",
   "name": "python3"
  },
  "language_info": {
   "codemirror_mode": {
    "name": "ipython",
    "version": 3
   },
   "file_extension": ".py",
   "mimetype": "text/x-python",
   "name": "python",
   "nbconvert_exporter": "python",
   "pygments_lexer": "ipython3",
   "version": "3.11.5"
  },
  "orig_nbformat": 4
 },
 "nbformat": 4,
 "nbformat_minor": 2
}
