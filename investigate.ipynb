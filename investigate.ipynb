{
 "cells": [
  {
   "cell_type": "code",
   "execution_count": 1,
   "metadata": {},
   "outputs": [],
   "source": [
    "from dotenv import load_dotenv\n",
    "import logging\n",
    "import os\n",
    "\n",
    "from data_cleaning import DataCleaning\n",
    "from data_extraction import DataExtractor\n",
    "from database_utils import DatabaseConnector\n",
    "\n",
    "logging.basicConfig(filename='pipeline.log', encoding='utf-8', level=logging.DEBUG,\n",
    "                    format=\"%(asctime)s [%(levelname)s] %(name)s - %(funcName).40s - %(message)s\",)\n",
    "logger = logging.getLogger(__name__)\n",
    "\n",
    "load_dotenv()\n",
    "CARD_DATA_PDF_PATH = 'https://data-handling-public.s3.eu-west-1.amazonaws.com/card_details.pdf'\n",
    "API_KEY = os.getenv('x-api-key')\n",
    "NUMBER_STORES_ENDPOINT_URL = 'https://aqj7u5id95.execute-api.eu-west-1.amazonaws.com/prod/number_stores'\n",
    "STORE_ENDPOINT_URL = 'https://aqj7u5id95.execute-api.eu-west-1.amazonaws.com/prod/store_details/'\n",
    "S3_ADDRESS = 's3://data-handling-public/products.csv'\n",
    "DATE_TIMES_S3_ADDRESS = ' s3://data-handling-public/date_details.json'\n",
    "\n",
    "def setup_database(filename):\n",
    "    db_conn = DatabaseConnector()\n",
    "    db_credentials = db_conn.read_db_creds(filename)\n",
    "    engine = db_conn.init_db_engine(db_credentials)\n",
    "    return db_conn, engine\n"
   ]
  },
  {
   "cell_type": "code",
   "execution_count": 2,
   "metadata": {},
   "outputs": [],
   "source": [
    "src_db, src_engine = setup_database(filename='config/db_creds.yaml')\n",
    "tgt_db, tgt_engine = setup_database(filename='config/db_creds_target.yaml')\n",
    "\n",
    "extractor, cleaner = DataExtractor(), DataCleaning()\n",
    "\n",
    "df_date_times = extractor.extract_from_s3(s3_address=DATE_TIMES_S3_ADDRESS)\n",
    "# assert len(df_orders.index) == 15284\n",
    "# target_db.upload_to_db(target_engine, df=df_orders, table_name='dim_users')"
   ]
  },
  {
   "cell_type": "code",
   "execution_count": 3,
   "metadata": {},
   "outputs": [
    {
     "name": "stdout",
     "output_type": "stream",
     "text": [
      "<class 'pandas.core.frame.DataFrame'>\n",
      "Index: 120161 entries, 0 to 120160\n",
      "Data columns (total 6 columns):\n",
      " #   Column       Non-Null Count   Dtype \n",
      "---  ------       --------------   ----- \n",
      " 0   timestamp    120161 non-null  object\n",
      " 1   month        120161 non-null  object\n",
      " 2   year         120161 non-null  object\n",
      " 3   day          120161 non-null  object\n",
      " 4   time_period  120161 non-null  object\n",
      " 5   date_uuid    120161 non-null  object\n",
      "dtypes: object(6)\n",
      "memory usage: 6.4+ MB\n"
     ]
    }
   ],
   "source": [
    "df_date_times.info()"
   ]
  },
  {
   "cell_type": "code",
   "execution_count": 5,
   "metadata": {},
   "outputs": [
    {
     "data": {
      "text/plain": [
       "array(['9', '2', '4', '11', '12', '8', '1', '3', '7', '10', '5', '6',\n",
       "       '1YMRDJNU2T', '9GN4VIO5A8', 'NULL', 'NF46JOZMTA', 'LZLLPZ0ZUA',\n",
       "       'YULO5U0ZAM', 'SAT4V9O2DL', '3ZZ5UCZR5D', 'DGQAH7M1HQ',\n",
       "       '4FHLELF101', '22JSMNGJCU', 'EB8VJHYZLE', '2VZEREEIKB',\n",
       "       'K9ZN06ZS1X', '9P3C0WBWTU', 'W6FT760O2B', 'DOIR43VTCM',\n",
       "       'FA8KD82QH3', '03T414PVFI', 'FNPZFYI489', '67RMH5U2R6',\n",
       "       'J9VQLERJQO', 'ZRH2YT3FR8', 'GYSATSCN88'], dtype=object)"
      ]
     },
     "execution_count": 5,
     "metadata": {},
     "output_type": "execute_result"
    }
   ],
   "source": [
    "df_date_times['month'].unique()"
   ]
  }
 ],
 "metadata": {
  "kernelspec": {
   "display_name": "mrd",
   "language": "python",
   "name": "python3"
  },
  "language_info": {
   "codemirror_mode": {
    "name": "ipython",
    "version": 3
   },
   "file_extension": ".py",
   "mimetype": "text/x-python",
   "name": "python",
   "nbconvert_exporter": "python",
   "pygments_lexer": "ipython3",
   "version": "3.11.5"
  },
  "orig_nbformat": 4
 },
 "nbformat": 4,
 "nbformat_minor": 2
}
