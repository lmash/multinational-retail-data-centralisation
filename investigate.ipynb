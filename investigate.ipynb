{
 "cells": [
  {
   "cell_type": "code",
   "execution_count": 1,
   "metadata": {},
   "outputs": [],
   "source": [
    "import logging\n",
    "import pandas as pd\n",
    "import numpy as np"
   ]
  },
  {
   "cell_type": "code",
   "execution_count": 2,
   "metadata": {},
   "outputs": [],
   "source": [
    "from data_cleaning import DataCleaning\n",
    "from data_extraction import DataExtractor\n",
    "from database_utils import DatabaseConnector\n",
    "\n",
    "logging.basicConfig(filename='pipeline.log', encoding='utf-8', level=logging.DEBUG,\n",
    "                    format=\"%(asctime)s [%(levelname)s] %(name)s - %(funcName).20s - %(message)s\",)\n",
    "logger = logging.getLogger(__name__)\n",
    "\n",
    "\n",
    "def setup_database(filename):\n",
    "    db_conn = DatabaseConnector()\n",
    "    db_credentials = db_conn.read_db_creds(filename)\n",
    "    engine = db_conn.init_db_engine(db_credentials)\n",
    "    return db_conn, engine"
   ]
  },
  {
   "cell_type": "code",
   "execution_count": 3,
   "metadata": {},
   "outputs": [
    {
     "name": "stderr",
     "output_type": "stream",
     "text": [
      "/Users/mashie/src/multinational-retail-data-centralisation/data_cleaning.py:76: SettingWithCopyWarning: \n",
      "A value is trying to be set on a copy of a slice from a DataFrame.\n",
      "Try using .loc[row_indexer,col_indexer] = value instead\n",
      "\n",
      "See the caveats in the documentation: https://pandas.pydata.org/pandas-docs/stable/user_guide/indexing.html#returning-a-view-versus-a-copy\n",
      "  df['month'] = df[column_name].str.slice(5, 7)\n"
     ]
    }
   ],
   "source": [
    "logger.info('****************************** Starting pipeline ******************************')\n",
    "db_extractor = DataExtractor()\n",
    "cleaner = DataCleaning()\n",
    "source_db, source_engine = setup_database(filename='config/db_creds.yaml')\n",
    "\n",
    "# with source_engine.execution_options(isolation_level='AUTOCOMMIT').connect() as conn:\n",
    "#     source_db.list_db_tables(source_engine)  # ['legacy_store_details', 'legacy_users', 'orders_table']\n",
    "#     extracted = db_extractor.read_rds_table(conn, 'legacy_users')\n",
    "#     extracted.info()\n",
    "\n",
    "# df_users = cleaner.clean_user_data(df=extracted)\n",
    "\n",
    "# Milestone 2 Step 8 - Write users dataframe to target database\n",
    "target_db, target_engine = setup_database(filename='config/db_creds_target.yaml')\n",
    "# target_db.upload_to_db(target_engine, df=df_users, table_name='dim_users')\n",
    "\n",
    "# Task 4 Step 2 - Extract card details to dataframe\n",
    "pdf_path = 'https://data-handling-public.s3.eu-west-1.amazonaws.com/card_details.pdf'\n",
    "df_card_details = db_extractor.retrieve_pdf_data(pdf_path=pdf_path)\n",
    "df_card_details = cleaner.clean_card_data(df=df_card_details)"
   ]
  }
 ],
 "metadata": {
  "kernelspec": {
   "display_name": "mrd",
   "language": "python",
   "name": "python3"
  },
  "language_info": {
   "codemirror_mode": {
    "name": "ipython",
    "version": 3
   },
   "file_extension": ".py",
   "mimetype": "text/x-python",
   "name": "python",
   "nbconvert_exporter": "python",
   "pygments_lexer": "ipython3",
   "version": "3.11.5"
  },
  "orig_nbformat": 4
 },
 "nbformat": 4,
 "nbformat_minor": 2
}
