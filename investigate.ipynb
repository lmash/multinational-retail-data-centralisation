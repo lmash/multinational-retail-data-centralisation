{
 "cells": [
  {
   "cell_type": "code",
   "execution_count": 1,
   "metadata": {},
   "outputs": [],
   "source": [
    "from dotenv import load_dotenv\n",
    "import logging\n",
    "import os\n",
    "\n",
    "from data_cleaning import DataCleaning\n",
    "from data_extraction import DataExtractor\n",
    "from database_utils import DatabaseConnector\n",
    "\n",
    "logging.basicConfig(filename='pipeline.log', encoding='utf-8', level=logging.DEBUG,\n",
    "                    format=\"%(asctime)s [%(levelname)s] %(name)s - %(funcName).40s - %(message)s\",)\n",
    "logger = logging.getLogger(__name__)\n",
    "\n",
    "load_dotenv()\n",
    "CARD_DATA_PDF_PATH = 'https://data-handling-public.s3.eu-west-1.amazonaws.com/card_details.pdf'\n",
    "API_KEY = os.getenv('x-api-key')\n",
    "NUMBER_STORES_ENDPOINT_URL = 'https://aqj7u5id95.execute-api.eu-west-1.amazonaws.com/prod/number_stores'\n",
    "STORE_ENDPOINT_URL = 'https://aqj7u5id95.execute-api.eu-west-1.amazonaws.com/prod/store_details/'\n",
    "S3_ADDRESS = 's3://data-handling-public/products.csv'\n",
    "\n",
    "def setup_database(filename):\n",
    "    db_conn = DatabaseConnector()\n",
    "    db_credentials = db_conn.read_db_creds(filename)\n",
    "    engine = db_conn.init_db_engine(db_credentials)\n",
    "    return db_conn, engine\n"
   ]
  },
  {
   "cell_type": "code",
   "execution_count": 2,
   "metadata": {},
   "outputs": [
    {
     "name": "stderr",
     "output_type": "stream",
     "text": [
      "/Users/mashie/src/multinational-retail-data-centralisation/data_cleaning.py:56: SettingWithCopyWarning: \n",
      "A value is trying to be set on a copy of a slice from a DataFrame.\n",
      "Try using .loc[row_indexer,col_indexer] = value instead\n",
      "\n",
      "See the caveats in the documentation: https://pandas.pydata.org/pandas-docs/stable/user_guide/indexing.html#returning-a-view-versus-a-copy\n",
      "  df['category'] = df['category'].astype('category')\n"
     ]
    }
   ],
   "source": [
    "logger.info('****************************** Starting pipeline ******************************')\n",
    "src_db, source_engine = setup_database(filename='config/db_creds.yaml')\n",
    "tgt_db, tgt_engine = setup_database(filename='config/db_creds_target.yaml')\n",
    "\n",
    "extractor, cleaner = DataExtractor(), DataCleaning()\n",
    "\n",
    "df_products = extractor.extract_from_s3(s3_address=S3_ADDRESS)\n",
    "df_products = cleaner.clean_product_data(df_products)"
   ]
  },
  {
   "cell_type": "code",
   "execution_count": 5,
   "metadata": {},
   "outputs": [],
   "source": [
    "# df_products['product_price'].unique()\n",
    "# df_products[df_products['product_price'].apply(type) != str]\n",
    "\n",
    "df_products['product_price'] = df_products['product_price'].apply(lambda x: x.replace('£', ''))\n"
   ]
  },
  {
   "cell_type": "code",
   "execution_count": 3,
   "metadata": {},
   "outputs": [
    {
     "data": {
      "text/plain": [
       "array(['£39.99', '£12.99', '£7.00', '£30.00', '£89.99', '£24.99',\n",
       "       '£22.00', '£20.00', '£16.99', '£25.00', '£45.00', '£18.99',\n",
       "       '£29.99', '£15.99', '£19.99', '£11.99', '£14.99', '£32.99',\n",
       "       '£120.00', '£10.00', '£21.99', '£13.99', '£30.99', '£270.00',\n",
       "       '£40.99', '£42.99', '£71.99', '£34.99', '£52.99', '£13.00',\n",
       "       '£2.25', '£3.00', '£3.50', '£4.00', '£26.99', '£17.99', '£31.99',\n",
       "       '£44.99', '£27.99', '£33.49', '£23.49', '£15.00', '£22.99',\n",
       "       '£6.99', '£12.00', '£5.99', '£3.99', '£50.00', '£49.99', '£36.49',\n",
       "       '£1.50', '£2.50', '£8.00', '£2.99', '£4.49', '£5.49', '£4.35',\n",
       "       '£2.75', '£3.69', '£6.49', '£9.49', '£7.99', '£1.29', '£2.19',\n",
       "       '£2.69', '£0.39', '£2.00', '£1.69', '£1.39', '£1.99', '£3.25',\n",
       "       '£4.29', '£4.69', '£3.49', '£10.99', '£1.15', '£35.00', '£38.00',\n",
       "       '£18.00', '£32.00', '£14.00', '£6.00', '£17.00', '£16.00', '£5.00',\n",
       "       '£40.00', '£65.00', '£70.00', '£80.00', '£60.00', '£99.00',\n",
       "       '£110.00', '£100.00', '£9.00', '£8.99', '£55.00', '£46.00',\n",
       "       '£34.00', '£85.00', '£9.99', '£24.00', '£28.00', '£49.00',\n",
       "       '£59.00', '£1.00', '£1.49', '£0.79', '£1.70', '£1.20', '£1.35',\n",
       "       '£1.25', '£2.49', '£0.49', '£0.69', '£0.89', '£3.29', '£4.79',\n",
       "       '£1.89', '£3.39', '£0.50', '£2.79', '£4.25', '£0.75', '£0.85',\n",
       "       '£1.10', '£26.64', '£22.23', '£7.49', '£69.00'], dtype=object)"
      ]
     },
     "execution_count": 3,
     "metadata": {},
     "output_type": "execute_result"
    }
   ],
   "source": [
    "df_products['product_price'].unique()"
   ]
  },
  {
   "cell_type": "code",
   "execution_count": 4,
   "metadata": {},
   "outputs": [
    {
     "name": "stdout",
     "output_type": "stream",
     "text": [
      "<class 'pandas.core.frame.DataFrame'>\n",
      "Index: 1846 entries, 0 to 1852\n",
      "Data columns (total 9 columns):\n",
      " #   Column         Non-Null Count  Dtype         \n",
      "---  ------         --------------  -----         \n",
      " 0   product_name   1846 non-null   object        \n",
      " 1   product_price  1846 non-null   object        \n",
      " 2   weight         1846 non-null   float64       \n",
      " 3   category       1846 non-null   category      \n",
      " 4   EAN            1846 non-null   object        \n",
      " 5   date_added     1846 non-null   datetime64[ns]\n",
      " 6   uuid           1846 non-null   object        \n",
      " 7   removed        1846 non-null   category      \n",
      " 8   product_code   1846 non-null   object        \n",
      "dtypes: category(2), datetime64[ns](1), float64(1), object(5)\n",
      "memory usage: 108.6+ KB\n"
     ]
    }
   ],
   "source": [
    "df_products.info()"
   ]
  }
 ],
 "metadata": {
  "kernelspec": {
   "display_name": "mrd",
   "language": "python",
   "name": "python3"
  },
  "language_info": {
   "codemirror_mode": {
    "name": "ipython",
    "version": 3
   },
   "file_extension": ".py",
   "mimetype": "text/x-python",
   "name": "python",
   "nbconvert_exporter": "python",
   "pygments_lexer": "ipython3",
   "version": "3.11.5"
  },
  "orig_nbformat": 4
 },
 "nbformat": 4,
 "nbformat_minor": 2
}
